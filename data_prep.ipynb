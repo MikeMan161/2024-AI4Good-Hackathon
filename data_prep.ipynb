{
 "cells": [
  {
   "cell_type": "code",
   "execution_count": 4,
   "metadata": {},
   "outputs": [],
   "source": [
    "import pandas as pd\n",
    "from sklearn.preprocessing import OneHotEncoder, LabelEncoder\n",
    "\n"
   ]
  },
  {
   "cell_type": "code",
   "execution_count": 5,
   "metadata": {},
   "outputs": [
    {
     "name": "stdout",
     "output_type": "stream",
     "text": [
      "(1749, 77)\n",
      "<class 'pandas.core.frame.DataFrame'>\n",
      "RangeIndex: 1749 entries, 0 to 1748\n",
      "Data columns (total 77 columns):\n",
      " #   Column                                Non-Null Count  Dtype  \n",
      "---  ------                                --------------  -----  \n",
      " 0   List Number                           1749 non-null   object \n",
      " 1   Agency Phone                          1736 non-null   object \n",
      " 2   Listing Agent                         1749 non-null   object \n",
      " 3   Co-Listing Agent                      285 non-null    object \n",
      " 4   Property Type                         1749 non-null   object \n",
      " 5   Card Format                           1749 non-null   object \n",
      " 6   Book Section                          1749 non-null   object \n",
      " 7   Property Sub Type                     1749 non-null   object \n",
      " 8   Listing Contract Date                 1749 non-null   object \n",
      " 9   Back on Market Date                   78 non-null     object \n",
      " 10  Status                                1749 non-null   object \n",
      " 11  Status Change Timestamp               1749 non-null   object \n",
      " 12  Original List Price                   1749 non-null   int64  \n",
      " 13  List Price                            1749 non-null   int64  \n",
      " 14  Living Area Source                    1749 non-null   object \n",
      " 15  MLS Area Major                        1749 non-null   int64  \n",
      " 16  Lock Box Number                       22 non-null     object \n",
      " 17  Street Direction Prefix               78 non-null     object \n",
      " 18  Street Direction Suffix               183 non-null    object \n",
      " 19  Non-Representative Compensation Type  1733 non-null   object \n",
      " 20  City                                  1749 non-null   object \n",
      " 21  State                                 1749 non-null   object \n",
      " 22  County                                1749 non-null   object \n",
      " 23  Country                               1704 non-null   object \n",
      " 24  Postal Code                           1748 non-null   float64\n",
      " 25  Stories Total                         1742 non-null   float64\n",
      " 26  Stories                               869 non-null    float64\n",
      " 27  Latitude                              1749 non-null   float64\n",
      " 28  Longitude                             1749 non-null   float64\n",
      " 29  GeoID                                 1749 non-null   float64\n",
      " 30  Living Area                           1749 non-null   float64\n",
      " 31  Year Built                            1749 non-null   int64  \n",
      " 32  Direction Faces                       133 non-null    object \n",
      " 33  Lot Size Dimensions                   25 non-null     object \n",
      " 34  Bedrooms Total                        1749 non-null   int64  \n",
      " 35  Bathrooms Total                       1749 non-null   int64  \n",
      " 36  Bathrooms Full                        1749 non-null   int64  \n",
      " 37  Bathrooms Half                        1748 non-null   float64\n",
      " 38  Parcel Number                         1745 non-null   object \n",
      " 39  Owner Name                            217 non-null    object \n",
      " 40  mod_timestamp                         767 non-null    object \n",
      " 41  Association Fee Frequency             146 non-null    object \n",
      " 42  Occupant Type                         682 non-null    object \n",
      " 43  Listing Agreement                     1733 non-null   object \n",
      " 44  Association Fee 2 Frequency           13 non-null     object \n",
      " 45  Listing Service                       1733 non-null   object \n",
      " 46  Lease Term                            1749 non-null   object \n",
      " 47  Association Fee                       143 non-null    float64\n",
      " 48  Building Area Total                   63 non-null     float64\n",
      " 49  Garage Spaces                         1056 non-null   float64\n",
      " 50  Association Fee 2                     16 non-null     float64\n",
      " 51  List Price/SqFt                       1740 non-null   float64\n",
      " 52  Availability Date                     1092 non-null   object \n",
      " 53  Start Showing Date                    75 non-null     object \n",
      " 54  Association Name                      62 non-null     object \n",
      " 55  Association YN                        1749 non-null   object \n",
      " 56  Carport YN                            1733 non-null   object \n",
      " 57  Property Attached YN                  224 non-null    object \n",
      " 58  Furnished                             854 non-null    object \n",
      " 59  Lot Size Acres                        1283 non-null   float64\n",
      " 60  Contingent Date                       1 non-null      object \n",
      " 61  Senior Community YN                   1734 non-null   object \n",
      " 62  Waterfront YN                         1749 non-null   object \n",
      " 63  Water Frontage Feet                   3 non-null      float64\n",
      " 64  Accessory Dwelling Unit Y/N           222 non-null    object \n",
      " 65  Rental Service                        911 non-null    object \n",
      " 66  Garage YN                             1733 non-null   object \n",
      " 67  Carport Spaces                        87 non-null     float64\n",
      " 68  Non-Representative Compensation       1732 non-null   float64\n",
      " 69  Entry Level                           430 non-null    float64\n",
      " 70  Accessibility Features YN             1732 non-null   object \n",
      " 71  Unit Type                             98 non-null     object \n",
      " 72  Comp Sale YN                          430 non-null    object \n",
      " 73  Price Change Timestamp                361 non-null    object \n",
      " 74  Days on Market                        1749 non-null   int64  \n",
      " 75  Rooms                                 311 non-null    object \n",
      " 76  Features                              1748 non-null   object \n",
      "dtypes: float64(18), int64(8), object(51)\n",
      "memory usage: 1.0+ MB\n"
     ]
    }
   ],
   "source": [
    "housing_data_uncleaned = pd.read_csv(\"data/PrimaryDataset-MLS-RentalProperties.csv\")\n",
    "\n",
    "print(housing_data_uncleaned.shape)\n",
    "housing_data_uncleaned.info()\n",
    "\n"
   ]
  },
  {
   "cell_type": "code",
   "execution_count": 6,
   "metadata": {},
   "outputs": [
    {
     "data": {
      "text/plain": [
       "Index(['List Number', 'Agency Phone', 'Listing Agent', 'Co-Listing Agent',\n",
       "       'Property Type', 'Card Format', 'Book Section', 'Property Sub Type',\n",
       "       'Listing Contract Date', 'Back on Market Date', 'Status',\n",
       "       'Status Change Timestamp', 'Original List Price', 'List Price',\n",
       "       'Living Area Source', 'MLS Area Major', 'Lock Box Number',\n",
       "       'Street Direction Prefix', 'Street Direction Suffix',\n",
       "       'Non-Representative Compensation Type', 'City', 'State', 'County',\n",
       "       'Country', 'Postal Code', 'Stories Total', 'Stories', 'Latitude',\n",
       "       'Longitude', 'GeoID', 'Living Area', 'Year Built', 'Direction Faces',\n",
       "       'Lot Size Dimensions', 'Bedrooms Total', 'Bathrooms Total',\n",
       "       'Bathrooms Full', 'Bathrooms Half', 'Parcel Number', 'Owner Name',\n",
       "       'mod_timestamp', 'Association Fee Frequency', 'Occupant Type',\n",
       "       'Listing Agreement', 'Association Fee 2 Frequency', 'Listing Service',\n",
       "       'Lease Term', 'Association Fee', 'Building Area Total', 'Garage Spaces',\n",
       "       'Association Fee 2', 'List Price/SqFt', 'Availability Date',\n",
       "       'Start Showing Date', 'Association Name', 'Association YN',\n",
       "       'Carport YN', 'Property Attached YN', 'Furnished', 'Lot Size Acres',\n",
       "       'Contingent Date', 'Senior Community YN', 'Waterfront YN',\n",
       "       'Water Frontage Feet', 'Accessory Dwelling Unit Y/N', 'Rental Service',\n",
       "       'Garage YN', 'Carport Spaces', 'Non-Representative Compensation',\n",
       "       'Entry Level', 'Accessibility Features YN', 'Unit Type', 'Comp Sale YN',\n",
       "       'Price Change Timestamp', 'Days on Market', 'Rooms', 'Features'],\n",
       "      dtype='object')"
      ]
     },
     "execution_count": 6,
     "metadata": {},
     "output_type": "execute_result"
    }
   ],
   "source": [
    "housing_data_uncleaned.columns"
   ]
  },
  {
   "cell_type": "code",
   "execution_count": 7,
   "metadata": {},
   "outputs": [],
   "source": [
    "relevant_columns = [\n",
    "    'List Price', 'Bedrooms Total', 'Bathrooms Total', 'Living Area', \n",
    "    'MLS Area Major', 'Year Built', \n",
    "    'Lot Size Acres', 'Days on Market', 'Non-Representative Compensation',\n",
    "    'Waterfront YN', 'Garage YN', 'Stories Total', 'Stories', 'Bedrooms Total', 'Bathrooms Total',\n",
    "    'Bathrooms Full', 'Bathrooms Half', 'Garage YN', 'Garage Spaces', 'Original List Price', 'Latitude', 'Longitude', 'Rooms', 'Features'\n",
    "]\n",
    "\n",
    "numerical_columns = [\n",
    "    'List Price', 'Bedrooms Total', 'Bathrooms Total', 'Living Area', \n",
    "    'MLS Area Major', 'Year Built', \n",
    "    'Lot Size Acres', 'Days on Market', 'Non-Representative Compensation',\n",
    "    'Stories Total', 'Stories', 'Bedrooms Total', 'Bathrooms Total',\n",
    "    'Bathrooms Full', 'Bathrooms Half', 'Garage Spaces', 'Original List Price', 'Latitude', 'Longitude'\n",
    "]\n",
    "\n",
    "# Drop the irrelevant columns\n",
    "numerical_housing_data = housing_data_uncleaned[numerical_columns]\n",
    "\n"
   ]
  },
  {
   "cell_type": "code",
   "execution_count": 8,
   "metadata": {},
   "outputs": [
    {
     "name": "stdout",
     "output_type": "stream",
     "text": [
      "<class 'pandas.core.frame.DataFrame'>\n",
      "RangeIndex: 1749 entries, 0 to 1748\n",
      "Data columns (total 19 columns):\n",
      " #   Column                           Non-Null Count  Dtype  \n",
      "---  ------                           --------------  -----  \n",
      " 0   List Price                       1749 non-null   int64  \n",
      " 1   Bedrooms Total                   1749 non-null   int64  \n",
      " 2   Bathrooms Total                  1749 non-null   int64  \n",
      " 3   Living Area                      1749 non-null   float64\n",
      " 4   MLS Area Major                   1749 non-null   int64  \n",
      " 5   Year Built                       1749 non-null   int64  \n",
      " 6   Lot Size Acres                   1283 non-null   float64\n",
      " 7   Days on Market                   1749 non-null   int64  \n",
      " 8   Non-Representative Compensation  1732 non-null   float64\n",
      " 9   Stories Total                    1742 non-null   float64\n",
      " 10  Stories                          869 non-null    float64\n",
      " 11  Bedrooms Total                   1749 non-null   int64  \n",
      " 12  Bathrooms Total                  1749 non-null   int64  \n",
      " 13  Bathrooms Full                   1749 non-null   int64  \n",
      " 14  Bathrooms Half                   1748 non-null   float64\n",
      " 15  Garage Spaces                    1056 non-null   float64\n",
      " 16  Original List Price              1749 non-null   int64  \n",
      " 17  Latitude                         1749 non-null   float64\n",
      " 18  Longitude                        1749 non-null   float64\n",
      "dtypes: float64(9), int64(10)\n",
      "memory usage: 259.7 KB\n"
     ]
    }
   ],
   "source": [
    "numerical_housing_data.info()"
   ]
  },
  {
   "cell_type": "code",
   "execution_count": 9,
   "metadata": {},
   "outputs": [],
   "source": [
    "housing_data = numerical_housing_data.dropna()"
   ]
  },
  {
   "cell_type": "code",
   "execution_count": 10,
   "metadata": {},
   "outputs": [],
   "source": [
    "housing_data\n",
    "\n",
    "housing_data.to_csv('data/numerical_housing_data.csv', index=False)\n"
   ]
  },
  {
   "cell_type": "code",
   "execution_count": null,
   "metadata": {},
   "outputs": [],
   "source": [
    "housing"
   ]
  },
  {
   "cell_type": "code",
   "execution_count": 15,
   "metadata": {},
   "outputs": [],
   "source": [
    "from sklearn.ensemble import IsolationForest\n",
    "\n",
    "model1 = IsolationForest(n_estimators=100, max_samples='auto', contamination=float(0.1), random_state=12)\n",
    "\n",
    "x = housing_data\n",
    "\n",
    "model1.fit(x)\n",
    "\n",
    "predict = model1.predict(x)\n",
    "\n",
    "anomalies = x[predict == -1]"
   ]
  },
  {
   "cell_type": "code",
   "execution_count": null,
   "metadata": {},
   "outputs": [],
   "source": []
  }
 ],
 "metadata": {
  "kernelspec": {
   "display_name": "Python 3",
   "language": "python",
   "name": "python3"
  },
  "language_info": {
   "codemirror_mode": {
    "name": "ipython",
    "version": 3
   },
   "file_extension": ".py",
   "mimetype": "text/x-python",
   "name": "python",
   "nbconvert_exporter": "python",
   "pygments_lexer": "ipython3",
   "version": "3.11.9"
  }
 },
 "nbformat": 4,
 "nbformat_minor": 2
}
